{
 "cells": [
  {
   "cell_type": "code",
   "execution_count": 1,
   "metadata": {},
   "outputs": [
    {
     "name": "stdout",
     "output_type": "stream",
     "text": [
      "enter any number:3\n",
      "True\n"
     ]
    }
   ],
   "source": [
    "def test_prime(n):\n",
    "    if (n==1):\n",
    "        return False\n",
    "    elif (n==2):\n",
    "        return True;\n",
    "    else:\n",
    "        for x in range(2,n):\n",
    "            if(n % x==0):\n",
    "                return False\n",
    "        return True \n",
    "num=int(input(\"enter any number:\"))\n",
    "print(test_prime(num))"
   ]
  },
  {
   "cell_type": "code",
   "execution_count": 5,
   "metadata": {},
   "outputs": [
    {
     "name": "stdout",
     "output_type": "stream",
     "text": [
      "enter any number:3\n",
      "enter any number:4\n",
      "enter any number:5\n",
      "5\n"
     ]
    }
   ],
   "source": [
    "def max_of_three( x, y, z):\n",
    "    if (x >= y) and (x >= z): \n",
    "        max = x \n",
    "    elif (y >= x) and (y >= z): \n",
    "        max = y \n",
    "    else: \n",
    "        max = z\n",
    "    return max\n",
    "x=int(input(\"enter any number:\"))\n",
    "y=int(input(\"enter any number:\"))\n",
    "z=int(input(\"enter any number:\"))\n",
    "print(max_of_three( x, y, z))"
   ]
  },
  {
   "cell_type": "code",
   "execution_count": 6,
   "metadata": {},
   "outputs": [
    {
     "name": "stdout",
     "output_type": "stream",
     "text": [
      "Enter any number45554\n",
      "given number is palindrome\n"
     ]
    }
   ],
   "source": [
    "num=input(\"Enter any number\")\n",
    "try:\n",
    "    x=int(num)\n",
    "    if num==num[::-1]:\n",
    "        print(\"given number is palindrome\")\n",
    "    else:\n",
    "        print(\"given number is not palindrome\")\n",
    "except:\n",
    "    print(\"invalid number\")"
   ]
  },
  {
   "cell_type": "code",
   "execution_count": 7,
   "metadata": {},
   "outputs": [
    {
     "name": "stdout",
     "output_type": "stream",
     "text": [
      "enter any number:44\n",
      "29370\n"
     ]
    }
   ],
   "source": [
    "def squaresum(n) :\n",
    "    return (n * (n + 1) * (2 * n + 1)) // 6\n",
    "num=int(input(\"enter any number:\"))\n",
    "print(squaresum(num))"
   ]
  },
  {
   "cell_type": "code",
   "execution_count": 8,
   "metadata": {},
   "outputs": [
    {
     "name": "stdout",
     "output_type": "stream",
     "text": [
      "Enter any stringsujith\n",
      "The reversed string is htijus\n"
     ]
    }
   ],
   "source": [
    "num=input(\"Enter any string\")\n",
    "x=num[::-1]\n",
    "print(\"The reversed string is\",x)"
   ]
  },
  {
   "cell_type": "code",
   "execution_count": null,
   "metadata": {},
   "outputs": [],
   "source": []
  }
 ],
 "metadata": {
  "kernelspec": {
   "display_name": "Python 3",
   "language": "python",
   "name": "python3"
  },
  "language_info": {
   "codemirror_mode": {
    "name": "ipython",
    "version": 3
   },
   "file_extension": ".py",
   "mimetype": "text/x-python",
   "name": "python",
   "nbconvert_exporter": "python",
   "pygments_lexer": "ipython3",
   "version": "3.8.3"
  }
 },
 "nbformat": 4,
 "nbformat_minor": 4
}
